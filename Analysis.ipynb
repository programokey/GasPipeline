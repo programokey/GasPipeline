{
 "cells": [
  {
   "cell_type": "code",
   "execution_count": 1,
   "metadata": {
    "collapsed": true,
    "pycharm": {
     "is_executing": false
    }
   },
   "outputs": [],
   "source": [
    "import lightgbm as lgb\n",
    "import pandas as pd\n",
    "import numpy as np\n",
    "from sklearn.preprocessing import MinMaxScaler\n",
    "from sklearn.model_selection import train_test_split\n",
    "from sklearn.metrics.regression import mean_squared_error\n",
    "from sklearn.linear_model import LinearRegression\n",
    "\n",
    "df = pd.read_csv('京兴20191209.csv')\n",
    "\n",
    "label_columns = list(filter(lambda x: 'F_S' in x, df.columns))\n",
    "input_columns = list(filter(lambda x: 'F_S' not in x, df.columns))\n",
    "df  = df[df['F_104303.F_S'] != 0]\n",
    "df  = df[df['F_104304.F_S'] != 0]\n",
    "X = df.loc[:, input_columns]\n",
    "X = X.iloc[:, 1:].values\n",
    "y = df.loc[:, label_columns]\n",
    "y = y.iloc[:, 0] + y.iloc[:, 1].values\n",
    "\n",
    "# for i in range(len(X.columns)):\n",
    "#     X.iloc[:, i: i+1] = MinMaxScaler().fit_transform(X.iloc[:, i: i+1])\n",
    "    \n",
    "X_train, X_test, y_train, y_test = train_test_split(X, y, test_size=0.2, random_state=0)"
   ]
  },
  {
   "cell_type": "code",
   "execution_count": 2,
   "outputs": [
    {
     "name": "stdout",
     "text": [
      "1812.5875855 32178.51855 27490.381186096856 5771.471569953804\n"
     ],
     "output_type": "stream"
    }
   ],
   "source": [
    "print(y.min(), y.max(), np.mean(y), np.std(y))"
   ],
   "metadata": {
    "collapsed": false,
    "pycharm": {
     "name": "#%%\n",
     "is_executing": false
    }
   }
  },
  {
   "cell_type": "code",
   "execution_count": 16,
   "outputs": [
    {
     "data": {
      "text/plain": "<Figure size 936x648 with 1 Axes>",
      "image/png": "[encoded data removed]"
     },
     "metadata": {
      "needs_background": "light"
     },
     "output_type": "display_data"
    }
   ],
   "source": [
    "import matplotlib.pyplot as plt\n",
    "plt.figure(figsize=(13, 9))\n",
    "plt.hist(y, bins=200)\n",
    "plt.xlabel('flow rate', fontsize=17)\n",
    "plt.ylabel('#samples', fontsize=17)\n",
    "# plt.show()\n",
    "plt.savefig('fig/fs_distribution.png')"
   ],
   "metadata": {
    "collapsed": false,
    "pycharm": {
     "name": "#%%\n",
     "is_executing": false
    }
   }
  },
  {
   "cell_type": "code",
   "execution_count": 6,
   "outputs": [
    {
     "name": "stdout",
     "text": [
      "0.05424852043078665\n",
      "0.4185024884197063\n",
      "0.9716861340639668\n",
      "0.05923563656975621\n",
      "0.35295044297859846\n",
      "0.9735321866749705\n",
      "-0.08889655243340183\n",
      "0.6280572151728706\n",
      "nan\n"
     ],
     "output_type": "stream"
    }
   ],
   "source": [
    "for i in range(X.shape[1]):\n",
    "    print(np.corrcoef(X[:, i], y)[0, 1])"
   ],
   "metadata": {
    "collapsed": false,
    "pycharm": {
     "name": "#%%\n",
     "is_executing": false
    }
   }
  },
  {
   "cell_type": "code",
   "execution_count": 2,
   "outputs": [
    {
     "name": "stdout",
     "text": [
      "baseline training mse: 33161918.048087277\n",
      "baseline testing mse: 33901106.742943674\n"
     ],
     "output_type": "stream"
    }
   ],
   "source": [
    "print('baseline training mse:', np.std(y_train)**2)\n",
    "print('baseline testing mse:', np.std(y_test)**2)"
   ],
   "metadata": {
    "collapsed": false,
    "pycharm": {
     "name": "#%%\n",
     "is_executing": false
    }
   }
  },
  {
   "cell_type": "code",
   "execution_count": 3,
   "outputs": [
    {
     "name": "stdout",
     "text": [
      "linear model\n",
      "training: 14725.59785831299\n",
      "testing: 15083.50646876051\n"
     ],
     "output_type": "stream"
    }
   ],
   "source": [
    "print('linear model')\n",
    "model = LinearRegression().fit(X_train, y_train)\n",
    "out = model.predict(X_train)\n",
    "print('training:', mean_squared_error(out, y_train))\n",
    "out = model.predict(X_test)\n",
    "print('testing:', mean_squared_error(out, y_test))"
   ],
   "metadata": {
    "collapsed": false,
    "pycharm": {
     "name": "#%%\n",
     "is_executing": false
    }
   }
  },
  {
   "cell_type": "code",
   "execution_count": 4,
   "outputs": [
    {
     "name": "stdout",
     "text": [
      "lgb model\n",
      "training: 6546.494862895776\n",
      "testing: 7143.051551352274\n"
     ],
     "output_type": "stream"
    }
   ],
   "source": [
    "model = lgb.LGBMRegressor(silent=False).fit(X_train, y_train)\n",
    "print('lgb model')\n",
    "out = model.predict(X_train)\n",
    "print('training:', mean_squared_error(out, y_train))\n",
    "out = model.predict(X_test)\n",
    "print('testing:', mean_squared_error(out, y_test))"
   ],
   "metadata": {
    "collapsed": false,
    "pycharm": {
     "name": "#%%\n",
     "is_executing": false
    }
   }
  },
  {
   "cell_type": "code",
   "execution_count": 5,
   "outputs": [
    {
     "name": "stderr",
     "text": [
      "C:\\Users\\limuf\\Anaconda3\\lib\\site-packages\\lightgbm\\engine.py:148: UserWarning: Found `num_iterations` in params. Will use it instead of argument\n",
      "  warnings.warn(\"Found `{}` in params. Will use it instead of argument\".format(alias))\n"
     ],
     "output_type": "stream"
    },
    {
     "name": "stdout",
     "text": [
      "[1]\ttraining's l2: 1.62525e+07\tvalid_1's l2: 1.6614e+07\n",
      "[2]\ttraining's l2: 7.96638e+06\tvalid_1's l2: 8.14418e+06\n",
      "[3]\ttraining's l2: 3.90589e+06\tvalid_1's l2: 3.99246e+06\n",
      "[4]\ttraining's l2: 1.9159e+06\tvalid_1's l2: 1.95913e+06\n",
      "[5]\ttraining's l2: 940639\tvalid_1's l2: 961952\n",
      "[6]\ttraining's l2: 462608\tvalid_1's l2: 473459\n",
      "[7]\ttraining's l2: 228255\tvalid_1's l2: 233901\n",
      "[8]\ttraining's l2: 113350\tvalid_1's l2: 116513\n",
      "[9]\ttraining's l2: 56961.1\tvalid_1's l2: 58973\n",
      "[10]\ttraining's l2: 29250.1\tvalid_1's l2: 30702.3\n",
      "[11]\ttraining's l2: 15593.2\tvalid_1's l2: 16799.2\n",
      "[12]\ttraining's l2: 8847.08\tvalid_1's l2: 9962.74\n",
      "[13]\ttraining's l2: 5490.19\tvalid_1's l2: 6553.04\n",
      "[14]\ttraining's l2: 3788.56\tvalid_1's l2: 4840\n",
      "[15]\ttraining's l2: 2926.73\tvalid_1's l2: 3967.43\n",
      "[16]\ttraining's l2: 2453.08\tvalid_1's l2: 3473.84\n",
      "[17]\ttraining's l2: 2189.92\tvalid_1's l2: 3213.88\n",
      "[18]\ttraining's l2: 2034.25\tvalid_1's l2: 3056.02\n",
      "[19]\ttraining's l2: 1923.42\tvalid_1's l2: 2944.86\n",
      "[20]\ttraining's l2: 1844.3\tvalid_1's l2: 2867.92\n",
      "[21]\ttraining's l2: 1780.98\tvalid_1's l2: 2792.85\n",
      "[22]\ttraining's l2: 1724.98\tvalid_1's l2: 2731.38\n",
      "[23]\ttraining's l2: 1683.62\tvalid_1's l2: 2675.51\n",
      "[24]\ttraining's l2: 1636.56\tvalid_1's l2: 2630.06\n",
      "[25]\ttraining's l2: 1599.43\tvalid_1's l2: 2589.37\n",
      "[26]\ttraining's l2: 1559.96\tvalid_1's l2: 2541.93\n",
      "[27]\ttraining's l2: 1524.56\tvalid_1's l2: 2513.35\n",
      "[28]\ttraining's l2: 1496.81\tvalid_1's l2: 2486.39\n",
      "[29]\ttraining's l2: 1468.76\tvalid_1's l2: 2457.16\n",
      "[30]\ttraining's l2: 1438.82\tvalid_1's l2: 2428.24\n",
      "[31]\ttraining's l2: 1413.65\tvalid_1's l2: 2397.31\n",
      "[32]\ttraining's l2: 1386.99\tvalid_1's l2: 2380.41\n",
      "[33]\ttraining's l2: 1363.3\tvalid_1's l2: 2361.93\n",
      "[34]\ttraining's l2: 1343.62\tvalid_1's l2: 2343.38\n",
      "[35]\ttraining's l2: 1323.04\tvalid_1's l2: 2319.88\n",
      "[36]\ttraining's l2: 1301.89\tvalid_1's l2: 2290.14\n",
      "[37]\ttraining's l2: 1287.12\tvalid_1's l2: 2273.15\n",
      "[38]\ttraining's l2: 1270.17\tvalid_1's l2: 2257.44\n",
      "[39]\ttraining's l2: 1256.43\tvalid_1's l2: 2240.13\n",
      "[40]\ttraining's l2: 1243.52\tvalid_1's l2: 2221.33\n",
      "[41]\ttraining's l2: 1232.45\tvalid_1's l2: 2205.71\n",
      "[42]\ttraining's l2: 1221.17\tvalid_1's l2: 2194.13\n",
      "[43]\ttraining's l2: 1207.72\tvalid_1's l2: 2175.79\n",
      "[44]\ttraining's l2: 1196.23\tvalid_1's l2: 2156.33\n",
      "[45]\ttraining's l2: 1186.5\tvalid_1's l2: 2140.73\n",
      "[46]\ttraining's l2: 1175.08\tvalid_1's l2: 2128.81\n",
      "[47]\ttraining's l2: 1165.47\tvalid_1's l2: 2117.82\n",
      "[48]\ttraining's l2: 1155.7\tvalid_1's l2: 2100.01\n",
      "[49]\ttraining's l2: 1147.59\tvalid_1's l2: 2092.59\n",
      "[50]\ttraining's l2: 1140.3\tvalid_1's l2: 2083.37\n",
      "[51]\ttraining's l2: 1132.16\tvalid_1's l2: 2074.89\n",
      "[52]\ttraining's l2: 1119.02\tvalid_1's l2: 2054.9\n",
      "[53]\ttraining's l2: 1111.43\tvalid_1's l2: 2045.02\n",
      "[54]\ttraining's l2: 1103.46\tvalid_1's l2: 2041.63\n",
      "[55]\ttraining's l2: 1095.94\tvalid_1's l2: 2038.48\n",
      "[56]\ttraining's l2: 1085.39\tvalid_1's l2: 2028.54\n",
      "[57]\ttraining's l2: 1079.51\tvalid_1's l2: 2024.31\n",
      "[58]\ttraining's l2: 1072.01\tvalid_1's l2: 2014.86\n",
      "[59]\ttraining's l2: 1065.18\tvalid_1's l2: 2003.62\n",
      "[60]\ttraining's l2: 1058.34\tvalid_1's l2: 1995.31\n",
      "[61]\ttraining's l2: 1051.59\tvalid_1's l2: 1990.98\n",
      "[62]\ttraining's l2: 1045.95\tvalid_1's l2: 1982.21\n",
      "[63]\ttraining's l2: 1040.47\tvalid_1's l2: 1981.12\n",
      "[64]\ttraining's l2: 1034.65\tvalid_1's l2: 1977.68\n",
      "[65]\ttraining's l2: 1029.74\tvalid_1's l2: 1972.56\n",
      "[66]\ttraining's l2: 1024.9\tvalid_1's l2: 1969.49\n",
      "[67]\ttraining's l2: 1019.51\tvalid_1's l2: 1964.31\n",
      "[68]\ttraining's l2: 1014.44\tvalid_1's l2: 1963.01\n",
      "[69]\ttraining's l2: 1010.19\tvalid_1's l2: 1954.58\n",
      "[70]\ttraining's l2: 1005.5\tvalid_1's l2: 1952.58\n",
      "[71]\ttraining's l2: 998.431\tvalid_1's l2: 1947.24\n",
      "[72]\ttraining's l2: 993.464\tvalid_1's l2: 1940.51\n",
      "[73]\ttraining's l2: 984.917\tvalid_1's l2: 1934.02\n",
      "[74]\ttraining's l2: 981.11\tvalid_1's l2: 1930.79\n",
      "[75]\ttraining's l2: 977.608\tvalid_1's l2: 1930.93\n",
      "[76]\ttraining's l2: 972.014\tvalid_1's l2: 1923.47\n",
      "[77]\ttraining's l2: 968.265\tvalid_1's l2: 1919.53\n",
      "[78]\ttraining's l2: 963.985\tvalid_1's l2: 1915.58\n",
      "[79]\ttraining's l2: 960.795\tvalid_1's l2: 1913.22\n",
      "[80]\ttraining's l2: 956.062\tvalid_1's l2: 1907.3\n",
      "[81]\ttraining's l2: 952.324\tvalid_1's l2: 1900.96\n",
      "[82]\ttraining's l2: 949.13\tvalid_1's l2: 1898.43\n",
      "[83]\ttraining's l2: 946.099\tvalid_1's l2: 1894.91\n",
      "[84]\ttraining's l2: 941.929\tvalid_1's l2: 1893.07\n",
      "[85]\ttraining's l2: 939.069\tvalid_1's l2: 1889.87\n",
      "[86]\ttraining's l2: 935.979\tvalid_1's l2: 1889.23\n",
      "[87]\ttraining's l2: 932.674\tvalid_1's l2: 1883.4\n",
      "[88]\ttraining's l2: 929.971\tvalid_1's l2: 1880.08\n",
      "[89]\ttraining's l2: 925.645\tvalid_1's l2: 1879.95\n",
      "[90]\ttraining's l2: 922.883\tvalid_1's l2: 1876.17\n",
      "[91]\ttraining's l2: 920.556\tvalid_1's l2: 1875.3\n",
      "[92]\ttraining's l2: 917.581\tvalid_1's l2: 1874.18\n",
      "[93]\ttraining's l2: 914.589\tvalid_1's l2: 1870.35\n",
      "[94]\ttraining's l2: 911.653\tvalid_1's l2: 1868.52\n",
      "[95]\ttraining's l2: 909.218\tvalid_1's l2: 1867.76\n",
      "[96]\ttraining's l2: 905.429\tvalid_1's l2: 1862.76\n",
      "[97]\ttraining's l2: 902.811\tvalid_1's l2: 1861.85\n",
      "[98]\ttraining's l2: 900.422\tvalid_1's l2: 1861.26\n",
      "[99]\ttraining's l2: 898.212\tvalid_1's l2: 1858.51\n",
      "[100]\ttraining's l2: 895.387\tvalid_1's l2: 1856.54\n",
      "[101]\ttraining's l2: 892.471\tvalid_1's l2: 1855.51\n",
      "[102]\ttraining's l2: 890.375\tvalid_1's l2: 1854.82\n",
      "[103]\ttraining's l2: 888.134\tvalid_1's l2: 1851.07\n",
      "[104]\ttraining's l2: 884.656\tvalid_1's l2: 1848.56\n",
      "[105]\ttraining's l2: 881.923\tvalid_1's l2: 1845.83\n",
      "[106]\ttraining's l2: 879.418\tvalid_1's l2: 1838.61\n",
      "[107]\ttraining's l2: 876.748\tvalid_1's l2: 1842.49\n",
      "[108]\ttraining's l2: 874.364\tvalid_1's l2: 1839.56\n",
      "[109]\ttraining's l2: 872.179\tvalid_1's l2: 1832.45\n",
      "[110]\ttraining's l2: 869.267\tvalid_1's l2: 1830.8\n",
      "[111]\ttraining's l2: 867.106\tvalid_1's l2: 1831.99\n",
      "[112]\ttraining's l2: 864.849\tvalid_1's l2: 1833.48\n",
      "[113]\ttraining's l2: 862.897\tvalid_1's l2: 1831.13\n",
      "[114]\ttraining's l2: 861.005\tvalid_1's l2: 1828.22\n",
      "[115]\ttraining's l2: 858.887\tvalid_1's l2: 1828.72\n",
      "[116]\ttraining's l2: 857.404\tvalid_1's l2: 1827.13\n",
      "[117]\ttraining's l2: 855.489\tvalid_1's l2: 1826.72\n",
      "[118]\ttraining's l2: 853.845\tvalid_1's l2: 1823.37\n",
      "[119]\ttraining's l2: 852.026\tvalid_1's l2: 1821.86\n",
      "[120]\ttraining's l2: 849.916\tvalid_1's l2: 1822.71\n",
      "[121]\ttraining's l2: 848.313\tvalid_1's l2: 1819.06\n",
      "[122]\ttraining's l2: 846.595\tvalid_1's l2: 1820.51\n",
      "[123]\ttraining's l2: 844.362\tvalid_1's l2: 1817.05\n",
      "[124]\ttraining's l2: 842.092\tvalid_1's l2: 1813.56\n",
      "[125]\ttraining's l2: 839.82\tvalid_1's l2: 1812.61\n",
      "[126]\ttraining's l2: 837.759\tvalid_1's l2: 1812.43\n",
      "[127]\ttraining's l2: 836.491\tvalid_1's l2: 1811.17\n",
      "[128]\ttraining's l2: 835.087\tvalid_1's l2: 1808.78\n",
      "[129]\ttraining's l2: 833.539\tvalid_1's l2: 1806.22\n",
      "[130]\ttraining's l2: 831.509\tvalid_1's l2: 1808.52\n",
      "[131]\ttraining's l2: 829.813\tvalid_1's l2: 1807.37\n",
      "[132]\ttraining's l2: 828.003\tvalid_1's l2: 1806.34\n",
      "[133]\ttraining's l2: 826.386\tvalid_1's l2: 1806.47\n",
      "[134]\ttraining's l2: 824.773\tvalid_1's l2: 1803.69\n",
      "[135]\ttraining's l2: 823.436\tvalid_1's l2: 1802.94\n",
      "[136]\ttraining's l2: 821.889\tvalid_1's l2: 1802.23\n",
      "[137]\ttraining's l2: 820.634\tvalid_1's l2: 1798.01\n",
      "[138]\ttraining's l2: 819.193\tvalid_1's l2: 1795.44\n",
      "[139]\ttraining's l2: 817.849\tvalid_1's l2: 1794.69\n",
      "[140]\ttraining's l2: 816.623\tvalid_1's l2: 1795.72\n",
      "[141]\ttraining's l2: 815.308\tvalid_1's l2: 1795.11\n",
      "[142]\ttraining's l2: 813.541\tvalid_1's l2: 1794.06\n",
      "[143]\ttraining's l2: 812\tvalid_1's l2: 1790.43\n",
      "[144]\ttraining's l2: 810.626\tvalid_1's l2: 1790.24\n",
      "[145]\ttraining's l2: 809.093\tvalid_1's l2: 1787.7\n",
      "[146]\ttraining's l2: 807.926\tvalid_1's l2: 1787.6\n",
      "[147]\ttraining's l2: 806.44\tvalid_1's l2: 1787.84\n",
      "[148]\ttraining's l2: 805.133\tvalid_1's l2: 1786.7\n",
      "[149]\ttraining's l2: 804.058\tvalid_1's l2: 1786.13\n",
      "[150]\ttraining's l2: 802.838\tvalid_1's l2: 1786.06\n"
     ],
     "output_type": "stream"
    }
   ],
   "source": [
    "training_data = lgb.Dataset(data=X_train, label=y_train)\n",
    "testing_data = lgb.Dataset(data=X_test, label=y_test)\n",
    "params = {'objective':'regression', 'num_iterations':150, 'learning_rate':0.3, 'num_leaves':100000, 'metric':'l2'}\n",
    "rt = lgb.train(params=params, train_set=training_data, valid_sets=[training_data, testing_data],)"
   ],
   "metadata": {
    "collapsed": false,
    "pycharm": {
     "name": "#%%\n",
     "is_executing": false
    }
   }
  },
  {
   "cell_type": "code",
   "execution_count": 7,
   "outputs": [
    {
     "data": {
      "text/plain": "<lightgbm.basic.Booster at 0x117d0aaaec8>"
     },
     "metadata": {},
     "output_type": "execute_result",
     "execution_count": 7
    }
   ],
   "source": [
    "rt.save_model('gbdt_model.txt')\n"
   ],
   "metadata": {
    "collapsed": false,
    "pycharm": {
     "name": "#%%\n",
     "is_executing": false
    }
   }
  }
 ],
 "metadata": {
  "kernelspec": {
   "display_name": "Python 3",
   "language": "python",
   "name": "python3"
  },
  "language_info": {
   "codemirror_mode": {
    "name": "ipython",
    "version": 2
   },
   "file_extension": ".py",
   "mimetype": "text/x-python",
   "name": "python",
   "nbconvert_exporter": "python",
   "pygments_lexer": "ipython2",
   "version": "2.7.6"
  },
  "pycharm": {
   "stem_cell": {
    "cell_type": "raw",
    "source": [],
    "metadata": {
     "collapsed": false
    }
   }
  }
 },
 "nbformat": 4,
 "nbformat_minor": 0
}